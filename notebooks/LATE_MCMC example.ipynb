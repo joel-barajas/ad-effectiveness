{
 "cells": [
  {
   "cell_type": "markdown",
   "metadata": {},
   "source": [
    "# Local Average Treatment Effect (LATE) Estimation using a Bayesian Potential Outcomes Approach\n",
    "\n",
    "## Background\n",
    "\n",
    "At a fundamental level, there three causal estimation frameworks:\n",
    "1. **Econometric Causality**, based on the structural equation model (SEM)\n",
    "2. **Inferred Causation**, based on causal graphs, counterfactuals and SEM (more philosophical)\n",
    "3. **Potential Outcomes**, based on hypothetical control behaviour of every individual without the intervention (from bio-statistics)\n",
    "\n",
    "Here, we use the **Pontential Outcomes** causal framework, where we write everything in terms of:\n",
    "* Treatments (treatment/control)\n",
    "* Inviduals potential outcomes\n",
    "\n",
    "At high-level, analyzing the causal effects of any intervention becomes a two-step process:\n",
    "1. Set up the inference problem (joint distribution) that reflects the data generation and assumptions required to find an unbiased causal metric\n",
    "2. Inference problem where the random variables of the joint distribution are fitted\n",
    "\n",
    "## Causal Effect Estimation with Partial Compliance\n",
    "\n",
    "In a randomized experiment, when the user exposure indicator is not completely controllable, the probability of receiving the treatment is difficult to replicate in both treatment and control groups. This type of experiments are known as experiment with **non-compliance** or **imperfect experiments**. \n",
    "\n",
    "In this setting, users in control are prevented from being treated, and users in treatment are assigned to get the treatment. What is controllable here is the **__intention to treat__** users for both groups. However, for uncontrollable reasons, only a proportion of users in treatment are actually treated, and in control either a group of people get a placebo treatment, or nobody gets any treatment at all.\n",
    "\n",
    "For the case of ad campaign evaluation, we control user randomization, but we do not control who is exposed to the ad in the end. That is because we can not control directly the user bidding process. Thus the setting we have is\n",
    "\n",
    "1. Users assigned to control and their conversions\n",
    "2. Users assigned to treatment who did not see the ad and their conversions\n",
    "3. Users assigned to treatment who see the ad and their conversions\n",
    "\n",
    "The goal is to find the campaign effect on the __exposed__ or __targeted__ population assuming no effect on the users who do not see the ad. This effect is often referred as the **Local Average Treatment Effect** (LATE) or as **Complier Average Causal Effect** (CACE). \n",
    "\n",
    "## The method Implemented Here\n",
    "\n",
    "Here, the goal is to replicate the results of the campaign effectiveness experiment [here](http://alumni.soe.ucsc.edu/~jbarajas/publications/paper_MarketingScience.pdf), which uses the Bayesian causal effect estimation for non-compliance problems described [here](https://scholar.harvard.edu/files/imbens/files/bayesian_inference_for_causal_effects_in_randomized_experiments_with_noncompliance.pdf). We find the overall campaign effect, i.e. the intention-to-treat __ITT__ effect and __LATE__ with a Bayesian approach to provide confidence intervals based on the posterior credible intervals.\n",
    "\n",
    "These estimations are helpful to identify the conditions necessary to achieve statistical significant results for a minimum detectable lift in a power analysis.\n",
    "\n",
    "<img src=\"attachment:image.png\" width=\"500\">"
   ]
  },
  {
   "cell_type": "code",
   "execution_count": 1,
   "metadata": {
    "collapsed": true
   },
   "outputs": [],
   "source": [
    "import numpy as np\n",
    "import matplotlib\n",
    "import matplotlib.pyplot as plt\n",
    "\n",
    "# Data input format (all user counts):\n",
    "# input = [N_{{0,1}C}^0,    - Control non-converters\n",
    "#          N_{{0,1}C}^1,    - Control converter\n",
    "#          N_{0S}^0,        - Treatment, no ad exposure, non-converter\n",
    "#          N_{0S}^1,        - Treatment, no ad exposure, converter\n",
    "#          N_{1S}^0,        - Treatment, ad exposure, non-converter\n",
    "#          N_{1S}^1,        - Treatment, ad exposure, converter\n",
    "#          ]"
   ]
  },
  {
   "cell_type": "markdown",
   "metadata": {},
   "source": [
    "First, a point estimate for all probabilities based on a method of moments"
   ]
  },
  {
   "cell_type": "code",
   "execution_count": 2,
   "metadata": {
    "collapsed": true
   },
   "outputs": [],
   "source": [
    "# Method of moments for probabilities that we know\n",
    "def point_init(in_counts):\n",
    "    p0_d0 = in_counts[3] / sum(in_counts[2:3])\n",
    "    p1_d1 = in_counts[5] / sum(in_counts[4:5])\n",
    "    pd = sum(in_counts[4:5]) / sum(in_counts[2:5])\n",
    "\n",
    "    p0_camp = in_counts[1] / sum(in_counts[0:1])\n",
    "    p1_camp = (in_counts[3] + in_counts[5]) / sum(in_counts[2:5])\n",
    "    p0_d1 = (p0_camp - p0_d0 * (1 - pd)) / pd\n",
    "    return p1_d1, p0_d1, p0_d0, pd, p0_camp, p1_camp"
   ]
  },
  {
   "cell_type": "markdown",
   "metadata": {},
   "source": [
    "The following function (not used here) is a point estimate for the LATE effects"
   ]
  },
  {
   "cell_type": "code",
   "execution_count": 3,
   "metadata": {
    "collapsed": true
   },
   "outputs": [],
   "source": [
    "# Late Method of moments assuming the mixture of potentially exposed users (exposed if assigned) or compliers\n",
    "# and never-exposed users or defiers in CACE notation\n",
    "# See Bayesian Data Analysis Gelman page 224\n",
    "# or Appendix C http://alumni.soe.ucsc.edu/~jbarajas/publications/paper_MarketingScience.pdf\n",
    "def pointEst(in_counts):\n",
    "    [p1_d1, p0_d1, p0_d0, pd, p0_camp, p1_camp] = point_init(in_counts)\n",
    "    late = p1_d1 - p0_d1\n",
    "    late_lift = (p1_d1 - p0_d1) / p0_d1\n",
    "    itt = p1_camp - p0_camp\n",
    "    return late, late_lift, pd, itt"
   ]
  },
  {
   "cell_type": "markdown",
   "metadata": {},
   "source": [
    "The following function is the actual LATE estimations with MCMC sampling. \n",
    "\n",
    "* Bernoulli likelihoods are assumed for the conversion indicators and the user selection for ad exposure\n",
    "* Beta conjugate priors are assumed for the Bernoulli likelihood parameters\n",
    "* It requires: \n",
    "\n",
    "    * __in_counts__: the user counts  as described above\n",
    "    * __N_burnin, N_samples__: burn-in and actual number of samples\n",
    "    * __alpha_0, beta_0__: prior parameters for the Beta distributions "
   ]
  },
  {
   "cell_type": "code",
   "execution_count": 4,
   "metadata": {
    "collapsed": true
   },
   "outputs": [],
   "source": [
    "def mcmcEst(in_counts, N_burnin, N_samples, alpha_0, beta_0):\n",
    "    # Initialize with point estimate\n",
    "    [theta_d1, theta_d0, theta_n, p_sel, p0_camp, p1_camp] = point_init(in_counts)\n",
    "\n",
    "    # Initialization of exposed label for control\n",
    "    N_d1 = sum(in_counts[4:5])\n",
    "    N_n1 = sum(in_counts[2:3])\n",
    "    N_n1_Conv = in_counts[3]\n",
    "    N_n1_nConv = in_counts[2]\n",
    "\n",
    "    # Probability of p_sel in control (exposed-if-assigned users)\n",
    "    Pd_d0_Conv = p_sel * theta_d0 / (p_sel * theta_d0 + (1 - p_sel) * theta_n)\n",
    "    Pd_d0_nConv = p_sel * (1 - theta_d0) / (p_sel * (1 - theta_d0) + (1 - p_sel) * (1 - theta_n))\n",
    "\n",
    "    # Sampling counts in control (# of those who would have seen exposed in treatment but are in control)\n",
    "    N_d0_Conv = np.random.binomial(n=in_counts[1], p=Pd_d0_Conv)\n",
    "    N_d0_nConv = np.random.binomial(n=in_counts[0], p=Pd_d0_nConv)\n",
    "    N_n0_Conv = in_counts[1] - N_d0_Conv\n",
    "    N_n0_nConv = in_counts[0] - N_d0_nConv\n",
    "\n",
    "    # Just screen printing purposes\n",
    "    prop = 0.5\n",
    "    k = 1\n",
    "\n",
    "    # ----------Burn in iterations ----------------------------\n",
    "    for s in range(N_burnin):\n",
    "        if s >= round(prop * k * N_burnin):\n",
    "            k += 1\n",
    "            print(s)\n",
    "\n",
    "        # Beta posterior distribution and sampling for p_sel\n",
    "        # p_sel = prob of qualified P(D=1)\n",
    "        alpha_p_sel = alpha_0 + N_d1 + N_d0_Conv + N_d0_nConv\n",
    "        beta_p_sel = beta_0 + N_n1 + N_n0_Conv + N_n0_nConv\n",
    "        p_sel = np.random.beta(a=alpha_p_sel, b=beta_p_sel)\n",
    "\n",
    "        # Beta posterior distribution and sampling for theta_d1\n",
    "        # theta_d1 = P(Y=1|D=1,Z=1) -- Fixed during the iterations\n",
    "        alpha_d1 = alpha_0 + in_counts[5]\n",
    "        beta_d1 = beta_0 + in_counts[4]\n",
    "        theta_d1 = np.random.beta(a=alpha_d1, b=beta_d1)\n",
    "\n",
    "        # Beta posterior distribution and sampling for theta_d0\n",
    "        # theta_d0 = P(Y=1 | D = 1, Z = 0)\n",
    "        alpha_d0 = alpha_0 + N_d0_Conv\n",
    "        beta_d0 = beta_0 + N_d0_nConv\n",
    "        theta_d0 = np.random.beta(a=alpha_d0, b=beta_d0)\n",
    "\n",
    "        # Beta posterior distribution and sampling for theta_n\n",
    "        # theta_n = P(Y=1|D=0,Z=0) = P(Y=1|D=0,Z=1) = P(Y=1|D=0)\n",
    "        alpha_n = alpha_0 + N_n0_Conv + N_n1_Conv\n",
    "        beta_n = beta_0 + N_n0_nConv + N_n1_nConv\n",
    "        theta_n = np.random.beta(a=alpha_n, b=beta_n)\n",
    "\n",
    "        # Finding probabilities of converter/non-converters and exposed-if-assigned users in control\n",
    "        Pd_d0_Conv = p_sel * theta_d0 / (p_sel * theta_d0 + (1 - p_sel) * theta_n)\n",
    "        Pd_d0_nConv = p_sel * (1 - theta_d0) / (p_sel * (1 - theta_d0) + (1 - p_sel) * (1 - theta_n))\n",
    "\n",
    "        # Sampling the unobserved user counts in control\n",
    "        N_d0_Conv = np.random.binomial(n=in_counts[1], p=Pd_d0_Conv)\n",
    "        N_d0_nConv = np.random.binomial(n=in_counts[0], p=Pd_d0_nConv)\n",
    "        N_n0_Conv = in_counts[1] - N_d0_Conv\n",
    "        N_n0_nConv = in_counts[0] - N_d0_nConv\n",
    "\n",
    "    # Actual samples after burnin\n",
    "    p_sel_samples = np.zeros(N_samples)\n",
    "    theta_d1_samples = np.zeros(N_samples)\n",
    "    theta_d0_samples = np.zeros(N_samples)\n",
    "    theta_n_samples = np.zeros(N_samples)\n",
    "\n",
    "    prop = 0.5\n",
    "    k = 1\n",
    "\n",
    "    for s in range(N_samples):\n",
    "        if s >= round(prop * k * N_samples):\n",
    "            k += 1\n",
    "            print(s)\n",
    "\n",
    "        # Beta posterior distribution and sampling for p_sel\n",
    "        # p_sel = prob of qualified P(D=1)\n",
    "        alpha_p_sel = alpha_0 + N_d1 + N_d0_Conv + N_d0_nConv\n",
    "        beta_p_sel = beta_0 + N_n1 + N_n0_Conv + N_n0_nConv\n",
    "        p_sel = np.random.beta(a=alpha_p_sel, b=beta_p_sel)\n",
    "\n",
    "        # Beta posterior distribution and sampling for theta_d1\n",
    "        # theta_d1 = P(Y=1|D=1,Z=1) -- Fixed during the iterations\n",
    "        alpha_d1 = alpha_0 + in_counts[5]\n",
    "        beta_d1 = beta_0 + in_counts[4]\n",
    "        theta_d1 = np.random.beta(a=alpha_d1, b=beta_d1)\n",
    "\n",
    "        # Beta posterior distribution and sampling for theta_d0\n",
    "        # theta_d0 = P(Y=1 | D = 1, Z = 0)\n",
    "        alpha_d0 = alpha_0 + N_d0_Conv\n",
    "        beta_d0 = beta_0 + N_d0_nConv\n",
    "        theta_d0 = np.random.beta(a=alpha_d0, b=beta_d0)\n",
    "\n",
    "        # Beta posterior distribution and sampling for theta_n\n",
    "        # theta_n = P(Y=1|D=0,Z=0) = P(Y=1|D=0,Z=1) = P(Y=1|D=0)\n",
    "        alpha_n = alpha_0 + N_n0_Conv + N_n1_Conv\n",
    "        beta_n = beta_0 + N_n0_nConv + N_n1_nConv\n",
    "        theta_n = np.random.beta(a=alpha_n, b=beta_n)\n",
    "\n",
    "        # Finding probabilities of converter/non-converters and exposed-if-assigned users in control\n",
    "        Pd_d0_Conv = p_sel * theta_d0 / (p_sel * theta_d0 + (1 - p_sel) * theta_n)\n",
    "        Pd_d0_nConv = p_sel * (1 - theta_d0) / (p_sel * (1 - theta_d0) + (1 - p_sel) * (1 - theta_n))\n",
    "\n",
    "        # Sampling the unobserved user counts in control\n",
    "        N_d0_Conv = np.random.binomial(n=in_counts[1], p=Pd_d0_Conv)\n",
    "        N_d0_nConv = np.random.binomial(n=in_counts[0], p=Pd_d0_nConv)\n",
    "        N_n0_Conv = in_counts[1] - N_d0_Conv\n",
    "        N_n0_nConv = in_counts[0] - N_d0_nConv\n",
    "\n",
    "        p_sel_samples[s] = p_sel\n",
    "        theta_d1_samples[s] = theta_d1\n",
    "        theta_d0_samples[s] = theta_d0\n",
    "        theta_n_samples[s] = theta_n\n",
    "\n",
    "    return theta_d1_samples, theta_d0_samples, theta_n_samples, p_sel_samples\n"
   ]
  },
  {
   "cell_type": "markdown",
   "metadata": {},
   "source": [
    "Running example with data from the [paper](http://alumni.soe.ucsc.edu/~jbarajas/publications/paper_MarketingScience.pdf)"
   ]
  },
  {
   "cell_type": "code",
   "execution_count": 5,
   "metadata": {},
   "outputs": [
    {
     "name": "stdout",
     "output_type": "stream",
     "text": [
      "5000\n",
      "50000\n",
      "Prob of Conversion Treatment and Exposed (samples) =  [0.00046294 0.00046345 0.00046515 ... 0.00046683 0.00044926 0.00045472]\n",
      "Prob of Conversion Treatment and Exposed (mean) =  0.0004551609922826697\n",
      "\n",
      "Prob of Conversion Control and  \"Would have been Exposed\" (samples) =  [0.00043345 0.0004622  0.00040785 ... 0.00034277 0.00035081 0.00036296]\n",
      "Prob of Conversion Control and  \"Would have been Exposed\" (mean) =  0.00037753677717775714\n",
      "\n",
      "Prob of Conversion Treatment or Control and non-exposed (samples) =  [0.00019461 0.00019035 0.00020456 ... 0.00019738 0.00019736 0.00019756]\n",
      "Prob of Conversion Treatment or Control and non-exposed (mean) =  0.00019879086154885256\n",
      "\n",
      "Prob of Exposed selection (samples) =  [0.32220004 0.32227447 0.32217173 ... 0.32227224 0.32218389 0.32203845]\n",
      "Prob of Exposed selection (mean) =  0.32217824743130974\n"
     ]
    }
   ],
   "source": [
    "# Data input format (all user counts):\n",
    "# input = [N_{{0,1}C}^0,    - Control non-converters\n",
    "#          N_{{0,1}C}^1,    - Control converter\n",
    "#          N_{0S}^0,        - Treatment, no ad exposure, non-converter\n",
    "#          N_{0S}^1,        - Treatment, no ad exposure, converter\n",
    "#          N_{1S}^0,        - Treatment, ad exposure, non-converter\n",
    "#          N_{1S}^1,        - Treatment, ad exposure, converter\n",
    "#          ]\n",
    "\n",
    "# Data sample\n",
    "in_counts = [1560146, 400, 12010058, 2387, 5708558, 2599]\n",
    "# priors\n",
    "alpha_0 = 0.50\n",
    "beta_0 = 0.50\n",
    "# Iterations\n",
    "# N_burnin, N_samples\n",
    "N_burnin = 10000\n",
    "N_samples = 100000\n",
    "\n",
    "[theta_d1_samples, theta_d0_samples, theta_n_samples, p_sel_samples] = mcmcEst(in_counts, N_burnin, N_samples, alpha_0, beta_0)\n",
    "print('Prob of Conversion Treatment and Exposed (samples) = ', theta_d1_samples)\n",
    "print('Prob of Conversion Treatment and Exposed (mean) = ', np.mean(theta_d1_samples))\n",
    "#\n",
    "print()\n",
    "print('Prob of Conversion Control and  \"Would have been Exposed\" (samples) = ', theta_d0_samples)\n",
    "print('Prob of Conversion Control and  \"Would have been Exposed\" (mean) = ', np.mean(theta_d0_samples))\n",
    "#\n",
    "print()\n",
    "print('Prob of Conversion Treatment or Control and non-exposed (samples) = ', theta_n_samples)\n",
    "print('Prob of Conversion Treatment or Control and non-exposed (mean) = ', np.mean(theta_n_samples))\n",
    "#\n",
    "print()\n",
    "print('Prob of Exposed selection (samples) = ', p_sel_samples)\n",
    "print('Prob of Exposed selection (mean) = ', np.mean(p_sel_samples))\n"
   ]
  },
  {
   "cell_type": "code",
   "execution_count": 6,
   "metadata": {},
   "outputs": [
    {
     "data": {
      "image/png": "[encoded data removed]",
      "text/plain": [
       "<Figure size 432x288 with 1 Axes>"
      ]
     },
     "metadata": {
      "needs_background": "light"
     },
     "output_type": "display_data"
    }
   ],
   "source": [
    "fig_bp, ax_bp = plt.subplots()\n",
    "ax_bp.set_title('Box plot Conversion Rates')\n",
    "ax_bp.boxplot([theta_n_samples*100,theta_d0_samples*100,theta_d1_samples*100])\n",
    "plt.xticks([1, 2, 3], ['Non-Targeted Users','Targeted Control', 'Targeted Treatment'])\n",
    "ax_bp.set_ylabel('Conversion Rate (%)')\n",
    "\n",
    "plt.show()"
   ]
  },
  {
   "cell_type": "markdown",
   "metadata": {},
   "source": [
    "Huge user **selection bias** performed by the targeting engine. Conversion rate of non-targeted users versus conversion rate of targeted users in control is close to **2X**. "
   ]
  },
  {
   "cell_type": "code",
   "execution_count": 7,
   "metadata": {},
   "outputs": [
    {
     "name": "stdout",
     "output_type": "stream",
     "text": [
      "Campaign lift (%) on the exposed users 90% credible interval:  [ 1.93622979 20.74702819 46.33428431]\n"
     ]
    },
    {
     "data": {
      "image/png": "[encoded data removed]",
      "text/plain": [
       "<Figure size 432x288 with 1 Axes>"
      ]
     },
     "metadata": {
      "needs_background": "light"
     },
     "output_type": "display_data"
    },
    {
     "name": "stdout",
     "output_type": "stream",
     "text": [
      "Campaign incremental converters as % of the converters observed in treatment population 90% credible interval:  [ 0.98003563  8.95311913 16.60459424]\n"
     ]
    },
    {
     "data": {
      "image/png": "[encoded data removed]",
      "text/plain": [
       "<Figure size 432x288 with 1 Axes>"
      ]
     },
     "metadata": {
      "needs_background": "light"
     },
     "output_type": "display_data"
    }
   ],
   "source": [
    "# Lift based on user exposed population\n",
    "lift_perc = 100*(theta_d1_samples-theta_d0_samples)/theta_d0_samples\n",
    "CI_lift = np.percentile(lift_perc,[5,50,95])\n",
    "print('Campaign lift (%) on the exposed users 90% credible interval: ',CI_lift)\n",
    "\n",
    "fig, ax = plt.subplots()\n",
    "n, bins, patches = ax.hist(lift_perc, 20)\n",
    "ax.set_xlabel('Campaign Lift (%)')\n",
    "\n",
    "plt.show()\n",
    "\n",
    "# Incremental conversions\n",
    "ATTR_samp = 100*(theta_d1_samples-theta_d0_samples)*sum(in_counts[4:5])/(in_counts[5]+in_counts[3])\n",
    "CI_ATTR = np.percentile(ATTR_samp,[5,50,95])\n",
    "print('Campaign incremental converters as % of the converters observed in treatment population 90% credible interval: ',CI_ATTR)\n",
    "\n",
    "fig, ax = plt.subplots()\n",
    "n, bins, patches = ax.hist(ATTR_samp, 20)\n",
    "ax.set_xlabel('Incremental converters as % of converters in treatment population')\n",
    "\n",
    "plt.show()"
   ]
  },
  {
   "cell_type": "markdown",
   "metadata": {},
   "source": [
    "## References and additional reading in treatment evaluation\n",
    "\n",
    "A broader generalization for the case of experiments with non-compliance is **Principal Stratification** where the individuals are segmented based on the individual response in both treatment groups. Since we never observe a given individual in both groups, the causal inference problem becomes a missing value problem. \n",
    "\n",
    "Some References:\n",
    "\n",
    "* [Introductory Slides with intrumental variables](https://www2.stat.duke.edu/courses/Spring14/sta320.01/IV_noncompliance.pdf)\n",
    "\n",
    "* [Bayesian Estimator Discussed here](https://scholar.harvard.edu/files/imbens/files/bayesian_inference_for_causal_effects_in_randomized_experiments_with_noncompliance.pdf). \n",
    "\n",
    "* [Application to Campaign Evaluation](http://alumni.soe.ucsc.edu/~jbarajas/publications/paper_MarketingScience.pdf). Results replicated in this notebook.\n",
    "\n",
    "* [Principal Stratification Modeling Examples (slides)](https://www2.stat.duke.edu/courses/Spring14/sta320.01/principalstratification.pdf)"
   ]
  },
  {
   "cell_type": "code",
   "execution_count": null,
   "metadata": {
    "collapsed": true
   },
   "outputs": [],
   "source": []
  }
 ],
 "metadata": {
  "kernelspec": {
   "display_name": "Python 3",
   "language": "python",
   "name": "python3"
  },
  "language_info": {
   "codemirror_mode": {
    "name": "ipython",
    "version": 3
   },
   "file_extension": ".py",
   "mimetype": "text/x-python",
   "name": "python",
   "nbconvert_exporter": "python",
   "pygments_lexer": "ipython3",
   "version": "3.6.1"
  }
 },
 "nbformat": 4,
 "nbformat_minor": 2
}
